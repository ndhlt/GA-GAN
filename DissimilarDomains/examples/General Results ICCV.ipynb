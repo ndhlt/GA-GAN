{
 "cells": [
  {
   "cell_type": "code",
   "execution_count": null,
   "id": "ac9e3354",
   "metadata": {
    "ExecuteTime": {
     "end_time": "2023-03-24T08:28:37.636333Z",
     "start_time": "2023-03-24T08:28:35.850608Z"
    }
   },
   "outputs": [],
   "source": [
    "%load_ext autoreload\n",
    "%autoreload 2\n",
    "\n",
    "import os\n",
    "import sys\n",
    "sys.path.append('./../')\n",
    "\n",
    "from collections import defaultdict\n",
    "\n",
    "import torch\n",
    "import tabulate\n",
    "import numpy as np\n",
    "\n",
    "import matplotlib_inline\n",
    "import matplotlib.pyplot as plt\n",
    "from matplotlib.gridspec import GridSpec, GridSpecFromSubplotSpec\n",
    "\n",
    "%matplotlib inline\n",
    "matplotlib_inline.backend_inline.set_matplotlib_formats('pdf', 'svg')"
   ]
  },
  {
   "cell_type": "markdown",
   "id": "d2ec6a79",
   "metadata": {},
   "source": [
    "For the sake of simplicity, most of the additional functions were implemented in the `nb_utils` module."
   ]
  },
  {
   "cell_type": "markdown",
   "id": "2243e7ab",
   "metadata": {},
   "source": [
    "# Load checkpoints"
   ]
  },
  {
   "cell_type": "markdown",
   "id": "74f92c0a",
   "metadata": {},
   "source": [
    "One can load an existing model using `nb_utils.load_checkpoint`. \n",
    "\n",
    "This function will return the Generator module (both trainee and ema-smoothed) as well as the initial Generator that corresponds to `--resume` CLI training option. Also, this function will parse and return the `training_options.json` and `metric-*.jsonl` files."
   ]
  },
  {
   "cell_type": "code",
   "execution_count": null,
   "id": "c0c64368",
   "metadata": {
    "ExecuteTime": {
     "end_time": "2023-03-24T08:28:40.505686Z",
     "start_time": "2023-03-24T08:28:40.295178Z"
    }
   },
   "outputs": [],
   "source": [
    "import nb_utils"
   ]
  },
  {
   "cell_type": "code",
   "execution_count": null,
   "id": "b42149ed",
   "metadata": {
    "ExecuteTime": {
     "end_time": "2023-03-24T08:28:40.539129Z",
     "start_time": "2023-03-24T08:28:40.508800Z"
    }
   },
   "outputs": [],
   "source": [
    "device = torch.device('cuda:0')\n",
    "base_exp_path = '~/StyleDomain/DissimilarDomains/training-runs'"
   ]
  },
  {
   "cell_type": "code",
   "execution_count": null,
   "id": "9fd85a53",
   "metadata": {
    "ExecuteTime": {
     "end_time": "2023-03-24T08:29:01.483710Z",
     "start_time": "2023-03-24T08:28:40.642704Z"
    }
   },
   "outputs": [],
   "source": [
    "exp_path = os.path.join(base_exp_path, '00066-afhqdog-stylegan2-kimg241-resumeffhq512')\n",
    "(\n",
    "    G, G_ema, # Trained Generator\n",
    "    G_base, G_ema_base, # Resume Generator\n",
    "    options, # Exact arguments that were used to train the model. See `training_options.json`\n",
    "    metrics # Metrics that were computed during training and after it using `calc_metrics.py`\n",
    ") = nb_utils.load_checkpoint(\n",
    "    exp_path=exp_path, # Path to experiment folder\n",
    "    chkpt_idx=241, # Checkpoint idx\n",
    "    device=device # GPU or CPU device to store the module\n",
    ")"
   ]
  },
  {
   "cell_type": "code",
   "execution_count": null,
   "id": "71274ef2",
   "metadata": {
    "ExecuteTime": {
     "end_time": "2023-03-24T08:31:34.333920Z",
     "start_time": "2023-03-24T08:31:34.275716Z"
    }
   },
   "outputs": [],
   "source": [
    "print(*metrics.items(), sep='\\n')"
   ]
  },
  {
   "cell_type": "markdown",
   "id": "a5563938",
   "metadata": {},
   "source": [
    "# Compute metrics"
   ]
  },
  {
   "cell_type": "markdown",
   "id": "295892a6",
   "metadata": {},
   "source": [
    "We can compute other metrics using `metric_main.calc_metric`. For example, here we compute $\\text{FID5k}$ (aka $\\text{FID}$) for the model finetuned on the **Dog** dataset with **Full** parameterization. It is worth noting that we also report $\\text{FID} = 20.3$ in the paper."
   ]
  },
  {
   "cell_type": "code",
   "execution_count": null,
   "id": "08b6b49a",
   "metadata": {
    "ExecuteTime": {
     "end_time": "2023-03-24T08:31:36.172574Z",
     "start_time": "2023-03-24T08:31:35.847327Z"
    }
   },
   "outputs": [],
   "source": [
    "from metrics import metric_main"
   ]
  },
  {
   "cell_type": "code",
   "execution_count": null,
   "id": "81a0c1ce",
   "metadata": {
    "ExecuteTime": {
     "end_time": "2023-03-24T08:32:49.898448Z",
     "start_time": "2023-03-24T08:31:36.373482Z"
    }
   },
   "outputs": [],
   "source": [
    "metric = metric_main.calc_metric(\n",
    "    metric='fid5k', G=G_ema, device=device,\n",
    "    dataset_kwargs=options['training_set_kwargs']\n",
    ")\n",
    "print('{0} = {1:.3f}'.format(metric['metric'], metric['results'][metric['metric']]))"
   ]
  },
  {
   "cell_type": "markdown",
   "id": "bd2548e0",
   "metadata": {},
   "source": [
    "# Generate sample images"
   ]
  },
  {
   "cell_type": "markdown",
   "id": "34d96d70",
   "metadata": {},
   "source": [
    "We can generate images from a pretrained model using the `nb_utils.generate_images` wrapper around Generator."
   ]
  },
  {
   "cell_type": "code",
   "execution_count": null,
   "id": "7b89afe9",
   "metadata": {
    "ExecuteTime": {
     "end_time": "2023-03-24T08:32:50.489991Z",
     "start_time": "2023-03-24T08:32:49.902966Z"
    }
   },
   "outputs": [],
   "source": [
    "grid_size = np.array([4, 4])\n",
    "images, _ = nb_utils.generate_images(G_ema, grid_size=grid_size, device=device)"
   ]
  },
  {
   "cell_type": "code",
   "execution_count": null,
   "id": "8ca7d51f",
   "metadata": {
    "ExecuteTime": {
     "end_time": "2023-03-24T08:32:54.926672Z",
     "start_time": "2023-03-24T08:32:50.492416Z"
    }
   },
   "outputs": [],
   "source": [
    "fig, axes = plt.subplots(*grid_size, figsize=grid_size[::-1] * 2)\n",
    "\n",
    "nb_utils.prepare_axes(axes)\n",
    "for ax, image in zip(axes.reshape(-1), images):\n",
    "    ax.imshow(image)\n",
    "\n",
    "fig.suptitle('Uncurated Dog samples for Full parameterization')\n",
    "    \n",
    "fig.subplots_adjust(wspace=0.01, hspace=0.01)\n",
    "fig.tight_layout()\n",
    "plt.show()"
   ]
  },
  {
   "cell_type": "markdown",
   "id": "800ec58c",
   "metadata": {},
   "source": [
    "# Results reproduction"
   ]
  },
  {
   "cell_type": "markdown",
   "id": "c9519da1",
   "metadata": {},
   "source": [
    "To reproduce all results, all necessary models must be trained. More precisely, it is the cartesian product of all datasets and parameterizations ($56$ models in total):\n",
    "\n",
    "$$[\\text{Metfaces}, \\text{Mega}, \\text{Ukiyoe}, \\text{Dog}, \\text{Cat}, \\text{Car}, \\text{Church}, \\text{Flowers}] \\times [\\text{Full}, \\text{SyntConv}, \\text{Affine}+, \\text{Affine}, \\text{Mapping}, \\text{AffineLight}+, \\text{StyleSpace}]$$\n",
    "\n",
    "Let's define a list of all those experiments:"
   ]
  },
  {
   "cell_type": "code",
   "execution_count": null,
   "id": "d989c45e",
   "metadata": {
    "ExecuteTime": {
     "end_time": "2023-03-24T08:32:54.986947Z",
     "start_time": "2023-03-24T08:32:54.931347Z"
    },
    "code_folding": []
   },
   "outputs": [],
   "source": [
    "metfaces_512 = {\n",
    "    'Full':         '00114-metfaces_512-stylegan2-kimg241-resumeffhq512',\n",
    "    'Mapping':      '00114-metfaces_512-stylegan2-kimg241-resumeffhq512-Gparts-mapping',\n",
    "    'SyntConv':     '00314-metfaces_512-stylegan2-kimg241-resumeffhq512-Gparts-synt_conv,tRGB_conv',\n",
    "    'Affine':       '00115-metfaces_512-stylegan2-kimg241-resumeffhq512-Gparts-synt_affine,tRGB_affine',\n",
    "    'Affine+':      '00304-metfaces_512-stylegan2-glrate0.02-kimg241-resumeffhq512-Gparts-synt_affine,tRGB_affine,synt_weights_offset.b64,tRGB_weights_offset.b64-use-dom-mod-out_in_additive',\n",
    "    'StyleSpace':   '00149-metfaces_512-stylegan2-glrate0.02-kimg241-resumeffhq512-Gparts-synt_offset,tRGB_offset-use-dom-mod-additive',\n",
    "    'AffineLight+': '00253-metfaces_512-stylegan2-glrate0.008-kimg241-resumeffhq512-Gparts-synt_affine_weights_offset,tRGB_affine_weights_offset,synt_weights_offset.b64,tRGB_weights_offset.b64-use-dom-mod-out_in_additive,affine_out_in_5_1_additive',\n",
    "}\n",
    "Mega_512 = {\n",
    "    'Full':         '00087-Mega_512-stylegan2-kimg241-resumeffhq512',\n",
    "    'Mapping':      '00088-Mega_512-stylegan2-kimg241-resumeffhq512-Gparts-mapping',\n",
    "    'SyntConv':     '00315-Mega_512-stylegan2-kimg241-resumeffhq512-Gparts-synt_conv,tRGB_conv',\n",
    "    'Affine':       '00088-Mega_512-stylegan2-kimg241-resumeffhq512-Gparts-synt_affine,tRGB_affine',\n",
    "    'Affine+':      '00312-Mega_512-stylegan2-glrate0.02-kimg241-resumeffhq512-Gparts-synt_affine,tRGB_affine,synt_weights_offset.b64,tRGB_weights_offset.b64-use-dom-mod-out_in_additive',\n",
    "    'StyleSpace':   '00149-Mega_512-stylegan2-glrate0.02-kimg241-resumeffhq512-Gparts-synt_offset,tRGB_offset-use-dom-mod-additive',\n",
    "    'AffineLight+': '00318-Mega_512-stylegan2-glrate0.008-kimg241-resumeffhq512-Gparts-synt_affine_weights_offset,tRGB_affine_weights_offset,synt_weights_offset.b64,tRGB_weights_offset.b64-use-dom-mod-out_in_additive,affine_out_in_5_1_additive',\n",
    "}\n",
    "ukiyoe_512 = {\n",
    "    'Full':         '00117-ukiyoe_512-stylegan2-kimg241-resumeffhq512',\n",
    "    'Mapping':      '00117-ukiyoe_512-stylegan2-kimg241-resumeffhq512-Gparts-mapping',\n",
    "    'SyntConv':     '00315-ukiyoe_512-stylegan2-kimg241-resumeffhq512-Gparts-synt_conv,tRGB_conv',\n",
    "    'Affine':       '00116-ukiyoe_512-stylegan2-kimg241-resumeffhq512-Gparts-synt_affine,tRGB_affine',\n",
    "    'Affine+':      '00312-ukiyoe_512-stylegan2-glrate0.02-kimg241-resumeffhq512-Gparts-synt_affine,tRGB_affine,synt_weights_offset.b64,tRGB_weights_offset.b64-use-dom-mod-out_in_additive',\n",
    "    'StyleSpace':   '00149-ukiyoe_512-stylegan2-glrate0.02-kimg241-resumeffhq512-Gparts-synt_offset,tRGB_offset-use-dom-mod-additive',\n",
    "    'AffineLight+': '00319-ukiyoe_512-stylegan2-glrate0.008-kimg241-resumeffhq512-Gparts-synt_affine_weights_offset,tRGB_affine_weights_offset,synt_weights_offset.b64,tRGB_weights_offset.b64-use-dom-mod-out_in_additive,affine_out_in_5_1_additive',\n",
    "}\n",
    "afhqdog = {\n",
    "    'Full':         '00066-afhqdog-stylegan2-kimg241-resumeffhq512',\n",
    "    'Mapping':      '00066-afhqdog-stylegan2-kimg241-resumeffhq512-Gparts-mapping',\n",
    "    'SyntConv':     '00315-afhqdog-stylegan2-kimg241-resumeffhq512-Gparts-synt_conv,tRGB_conv',\n",
    "    'Affine':       '00068-afhqdog-stylegan2-kimg241-resumeffhq512-Gparts-synt_affine,tRGB_affine',\n",
    "    'Affine+':      '00313-afhqdog-stylegan2-glrate0.02-kimg241-resumeffhq512-Gparts-synt_affine,tRGB_affine,synt_weights_offset.b64,tRGB_weights_offset.b64-use-dom-mod-out_in_additive',\n",
    "    'StyleSpace':   '00147-afhqdog-stylegan2-glrate0.02-kimg241-resumeffhq512-Gparts-synt_offset,tRGB_offset-use-dom-mod-additive',\n",
    "    'AffineLight+': '00253-afhqdog-stylegan2-glrate0.008-kimg241-resumeffhq512-Gparts-synt_affine_weights_offset,tRGB_affine_weights_offset,synt_weights_offset.b64,tRGB_weights_offset.b64-use-dom-mod-out_in_additive,affine_out_in_5_1_additive',\n",
    "}\n",
    "afhqcat = {   \n",
    "    'Full':         '00065-afhqcat-stylegan2-kimg241-resumeffhq512',\n",
    "    'Mapping':      '00065-afhqcat-stylegan2-kimg241-resumeffhq512-Gparts-mapping',\n",
    "    'SyntConv':     '00315-afhqcat-stylegan2-kimg241-resumeffhq512-Gparts-synt_conv,tRGB_conv',\n",
    "    'Affine':       '00067-afhqcat-stylegan2-kimg241-resumeffhq512-Gparts-synt_affine,tRGB_affine',\n",
    "    'Affine+':      '00299-afhqcat-stylegan2-glrate0.02-kimg241-resumeffhq512-Gparts-synt_affine,tRGB_affine,synt_weights_offset.b64,tRGB_weights_offset.b64-use-dom-mod-out_in_additive',\n",
    "    'StyleSpace':   '00147-afhqcat-stylegan2-glrate0.02-kimg241-resumeffhq512-Gparts-synt_offset,tRGB_offset-use-dom-mod-additive',\n",
    "    'AffineLight+': '00253-afhqcat-stylegan2-glrate0.008-kimg241-resumeffhq512-Gparts-synt_affine_weights_offset,tRGB_affine_weights_offset,synt_weights_offset.b64,tRGB_weights_offset.b64-use-dom-mod-out_in_additive,affine_out_in_5_1_additive',\n",
    "}\n",
    "car = {\n",
    "    'Full':         '00220-lsun_cars_512_10k-stylegan2-kimg241-resumeffhq512',\n",
    "    'Mapping':      '00220-lsun_cars_512_10k-stylegan2-kimg241-resumeffhq512-Gparts-mapping',\n",
    "    'SyntConv':     '00315-lsun_cars_512_10k-stylegan2-kimg241-resumeffhq512-Gparts-synt_conv,tRGB_conv',\n",
    "    'Affine':       '00262-lsun_cars_512_10k-stylegan2-kimg241-resumeffhq512-Gparts-synt_affine,tRGB_affine',\n",
    "    'Affine+':      '00300-lsun_cars_512_10k-stylegan2-glrate0.02-kimg241-resumeffhq512-Gparts-synt_affine,tRGB_affine,synt_weights_offset.b64,tRGB_weights_offset.b64-use-dom-mod-out_in_additive',\n",
    "    'StyleSpace':   '00223-lsun_cars_512_10k-stylegan2-glrate0.02-kimg241-resumeffhq512-Gparts-synt_offset,tRGB_offset-use-dom-mod-additive',\n",
    "    'AffineLight+': '00318-lsun_cars_512_10k-stylegan2-glrate0.008-kimg241-resumeffhq512-Gparts-synt_affine_weights_offset,tRGB_affine_weights_offset,synt_weights_offset.b64,tRGB_weights_offset.b64-use-dom-mod-out_in_additive,affine_out_in_5_1_additive',\n",
    "}\n",
    "church = {\n",
    "    'Full':         '00221-lsun_church_outdoor_train_512_10k-stylegan2-kimg241-resumeffhq512',\n",
    "    'Mapping':      '00221-lsun_church_outdoor_train_512_10k-stylegan2-kimg241-resumeffhq512-Gparts-mapping',\n",
    "    'SyntConv':     '00315-lsun_church_outdoor_train_512_10k-stylegan2-kimg241-resumeffhq512-Gparts-synt_conv,tRGB_conv',\n",
    "    'Affine':       '00262-lsun_church_outdoor_train_512_10k-stylegan2-kimg241-resumeffhq512-Gparts-synt_affine,tRGB_affine',\n",
    "    'Affine+':      '00313-lsun_church_outdoor_train_512_10k-stylegan2-glrate0.02-kimg241-resumeffhq512-Gparts-synt_affine,tRGB_affine,synt_weights_offset.b64,tRGB_weights_offset.b64-use-dom-mod-out_in_additive',\n",
    "    'StyleSpace':   '00224-lsun_church_outdoor_train_512_10k-stylegan2-glrate0.02-kimg241-resumeffhq512-Gparts-synt_offset,tRGB_offset-use-dom-mod-additive',\n",
    "    'AffineLight+': '00253-lsun_church_outdoor_train_512_10k-stylegan2-glrate0.008-kimg241-resumeffhq512-Gparts-synt_affine_weights_offset,tRGB_affine_weights_offset,synt_weights_offset.b64,tRGB_weights_offset.b64-use-dom-mod-out_in_additive,affine_out_in_5_1_additive',\n",
    "}\n",
    "flowers = {\n",
    "    'Full':         '00142-flowers_102_train_random_01-stylegan2-kimg482-resumeffhq512',\n",
    "    'Mapping':      '00205-flowers_102_train_random_01-stylegan2-kimg241-resumeffhq512-Gparts-mapping',\n",
    "    'SyntConv':     '00315-flowers_102_train_random_01-stylegan2-kimg241-resumeffhq512-Gparts-synt_conv,tRGB_conv',\n",
    "    'Affine':       '00262-flowers_102_train_random_01-stylegan2-kimg241-resumeffhq512-Gparts-synt_affine,tRGB_affine',\n",
    "    'Affine+':      '00300-flowers_102_train_random_01-stylegan2-glrate0.02-kimg241-resumeffhq512-Gparts-synt_affine,tRGB_affine,synt_weights_offset.b64,tRGB_weights_offset.b64-use-dom-mod-out_in_additive',\n",
    "    'StyleSpace':   '00208-flowers_102_train_random_01-stylegan2-glrate0.02-kimg241-resumeffhq512-Gparts-synt_offset,tRGB_offset-use-dom-mod-additive',\n",
    "    'AffineLight+': '00318-flowers_102_train_random_01-stylegan2-glrate0.008-kimg241-resumeffhq512-Gparts-synt_affine_weights_offset,tRGB_affine_weights_offset,synt_weights_offset.b64,tRGB_weights_offset.b64-use-dom-mod-out_in_additive,affine_out_in_5_1_additive',\n",
    "}\n",
    "\n",
    "general_experiments = {\n",
    "    'Metfaces': metfaces_512,\n",
    "    'Mega': Mega_512,\n",
    "    'Ukiyoe': ukiyoe_512,\n",
    "    'Dog': afhqdog,\n",
    "    'Cat': afhqcat,\n",
    "    'Car': car,\n",
    "    'Church': church,\n",
    "    'Flowers': flowers,\n",
    "}\n",
    "\n",
    "chkpt_idxs = {\n",
    "    'Metfaces': 241,\n",
    "    'Mega': 40,\n",
    "    'Ukiyoe': 100,\n",
    "    'Dog': 241,\n",
    "    'Cat': 241,\n",
    "    'Car': 241,\n",
    "    'Church': 241,\n",
    "    'Flowers': 241,\n",
    "}"
   ]
  },
  {
   "cell_type": "markdown",
   "id": "d274bdbe",
   "metadata": {},
   "source": [
    "Load all checkpoints:"
   ]
  },
  {
   "cell_type": "code",
   "execution_count": null,
   "id": "04198c19",
   "metadata": {
    "ExecuteTime": {
     "end_time": "2023-03-24T08:35:05.785073Z",
     "start_time": "2023-03-24T08:32:54.988994Z"
    },
    "scrolled": true
   },
   "outputs": [],
   "source": [
    "all_models = defaultdict(defaultdict)\n",
    "\n",
    "for dataset_name, dataset_exps in general_experiments.items():\n",
    "    chkpt_idx = chkpt_idxs[dataset_name]\n",
    "    \n",
    "    for parameterization_name, exp_suffix in dataset_exps.items():\n",
    "        exp_path = os.path.join(base_exp_path, exp_suffix)\n",
    "        _, G_ema, _, _, _, metrics = nb_utils.load_checkpoint(\n",
    "            exp_path=exp_path, chkpt_idx=chkpt_idx, device=torch.device('cpu')\n",
    "        )\n",
    "        \n",
    "        fid5k = dict(metrics['fid5k'])[chkpt_idx]\n",
    "        kid5k = dict(metrics['kid5k'])[chkpt_idx]\n",
    "        fid50k = dict(metrics['fid50k'])[chkpt_idx]\n",
    "        kid50k = dict(metrics['kid50k'])[chkpt_idx]\n",
    "\n",
    "        all_models[parameterization_name][dataset_name] = (G_ema, (fid5k, kid5k, fid50k, kid50k))"
   ]
  },
  {
   "cell_type": "markdown",
   "id": "d916a8ca",
   "metadata": {},
   "source": [
    "### Table 2"
   ]
  },
  {
   "cell_type": "code",
   "execution_count": null,
   "id": "f0728bb3",
   "metadata": {
    "ExecuteTime": {
     "end_time": "2023-03-24T08:36:07.743193Z",
     "start_time": "2023-03-24T08:36:07.676372Z"
    }
   },
   "outputs": [],
   "source": [
    "table_02 = []\n",
    "for pname in ['Full', 'SyntConv', 'Affine', 'Mapping', 'Affine+', 'AffineLight+', 'StyleSpace']:\n",
    "    table_02.append([pname])\n",
    "    for dname in general_experiments:\n",
    "        _, (fid5k, _, _, _) = all_models[pname][dname]\n",
    "        table_02[-1].append(fid5k)\n",
    "        \n",
    "print(tabulate.tabulate(table_02, headers=general_experiments, floatfmt='.1f'))"
   ]
  },
  {
   "cell_type": "markdown",
   "id": "a9ab178a",
   "metadata": {},
   "source": [
    "### Table 7"
   ]
  },
  {
   "cell_type": "code",
   "execution_count": null,
   "id": "5caa6d88",
   "metadata": {
    "ExecuteTime": {
     "end_time": "2023-03-24T08:40:15.655367Z",
     "start_time": "2023-03-24T08:40:15.596740Z"
    }
   },
   "outputs": [],
   "source": [
    "table_07 = []\n",
    "for pname in ['Full', 'SyntConv', 'Affine+', 'Affine', 'Mapping']:\n",
    "    table_07.append([pname])\n",
    "    for dname in general_experiments:\n",
    "        _, (_, _, fid50k, _) = all_models[pname][dname]\n",
    "        table_07[-1].append(fid50k)\n",
    "        \n",
    "print(tabulate.tabulate(table_07, headers=general_experiments, floatfmt='.1f'))"
   ]
  },
  {
   "cell_type": "markdown",
   "id": "933c1f56",
   "metadata": {},
   "source": [
    "### Table 8"
   ]
  },
  {
   "cell_type": "code",
   "execution_count": null,
   "id": "1f927cbb",
   "metadata": {
    "ExecuteTime": {
     "end_time": "2023-03-24T08:41:15.500636Z",
     "start_time": "2023-03-24T08:41:15.441952Z"
    }
   },
   "outputs": [],
   "source": [
    "table_08 = []\n",
    "for pname in ['Full', 'SyntConv', 'Affine+', 'Affine', 'Mapping']:\n",
    "    table_08.append([pname])\n",
    "    for dname in general_experiments:\n",
    "        _, (_, _, _, kid50k) = all_models[pname][dname]\n",
    "        table_08[-1].append(kid50k * 1000)\n",
    "        \n",
    "print(tabulate.tabulate(table_08, headers=general_experiments, floatfmt='.1f'))"
   ]
  },
  {
   "cell_type": "markdown",
   "id": "afd3228f",
   "metadata": {},
   "source": [
    "### Table 12"
   ]
  },
  {
   "cell_type": "code",
   "execution_count": null,
   "id": "4efc4b70",
   "metadata": {
    "ExecuteTime": {
     "end_time": "2023-03-24T08:42:35.751538Z",
     "start_time": "2023-03-24T08:42:35.690262Z"
    }
   },
   "outputs": [],
   "source": [
    "table_12 = []\n",
    "for pname in ['Full', 'Affine+', 'AffineLight+', 'StyleSpace']:\n",
    "    table_12.append([pname])\n",
    "    for dname in general_experiments:\n",
    "        _, (_, _, fid50k, _) = all_models[pname][dname]\n",
    "        table_12[-1].append(fid50k)\n",
    "        \n",
    "print(tabulate.tabulate(table_12, headers=general_experiments, floatfmt='.1f'))"
   ]
  },
  {
   "cell_type": "markdown",
   "id": "ae9b3815",
   "metadata": {},
   "source": [
    "### Table 13"
   ]
  },
  {
   "cell_type": "code",
   "execution_count": null,
   "id": "28f2ed18",
   "metadata": {
    "ExecuteTime": {
     "end_time": "2023-03-24T08:42:37.159066Z",
     "start_time": "2023-03-24T08:42:37.098297Z"
    }
   },
   "outputs": [],
   "source": [
    "table_13 = []\n",
    "for pname in ['Full', 'Affine+', 'AffineLight+', 'StyleSpace']:\n",
    "    table_13.append([pname])\n",
    "    for dname in general_experiments:\n",
    "        _, (_, _, _, kid50k) = all_models[pname][dname]\n",
    "        table_13[-1].append(kid50k * 1000)\n",
    "        \n",
    "print(tabulate.tabulate(table_13, headers=general_experiments, floatfmt='.1f'))"
   ]
  },
  {
   "cell_type": "markdown",
   "id": "1a042f2a",
   "metadata": {},
   "source": [
    "### Figure 4"
   ]
  },
  {
   "cell_type": "code",
   "execution_count": null,
   "id": "bc8e01aa",
   "metadata": {
    "ExecuteTime": {
     "end_time": "2023-03-24T08:46:08.486477Z",
     "start_time": "2023-03-24T08:46:04.584374Z"
    }
   },
   "outputs": [],
   "source": [
    "grid_size = np.array([2, 7])\n",
    "fig, axes = plt.subplots(*grid_size, figsize=grid_size[::-1] * np.array([3, 3.2]))\n",
    "nb_utils.prepare_axes(axes)\n",
    "\n",
    "for idx, (dname, seed) in enumerate([('Cat', 964), ('Dog', 912),]):\n",
    "    for jdx, pname in enumerate(['Full', 'SyntConv', 'Affine', 'Mapping', 'Affine+', 'AffineLight+', 'StyleSpace']):\n",
    "        G_ema, _ = all_models[pname][dname]\n",
    "        images, _ = nb_utils.generate_images(G_ema, grid_size=1, device=device, seed=seed, truncation_psi=0.9)\n",
    "        \n",
    "        axes[idx, jdx].imshow(images[0])\n",
    "        if idx == 0:\n",
    "            axes[idx, jdx].set_title(pname, fontdict=dict(fontsize=20, weight='bold'))\n",
    "        if jdx == 0:\n",
    "            axes[idx, jdx].set_ylabel(dname, fontdict=dict(fontsize=20, weight='bold'))\n",
    "        \n",
    "fig.subplots_adjust(wspace=0.05, hspace=0.05)\n",
    "fig.tight_layout()\n",
    "plt.show()"
   ]
  },
  {
   "cell_type": "markdown",
   "id": "73c43613",
   "metadata": {},
   "source": [
    "### Figure 13"
   ]
  },
  {
   "cell_type": "code",
   "execution_count": null,
   "id": "d50303f7",
   "metadata": {
    "ExecuteTime": {
     "end_time": "2023-03-24T08:49:17.195816Z",
     "start_time": "2023-03-24T08:49:02.367330Z"
    }
   },
   "outputs": [],
   "source": [
    "grid_size = np.array([7, 8])\n",
    "fig, axes = plt.subplots(*grid_size, figsize=grid_size[::-1] * 1.25)\n",
    "nb_utils.prepare_axes(axes)\n",
    "\n",
    "for idx, pname in enumerate(['Full', 'SyntConv', 'Affine+', 'Affine', 'AffineLight+', 'StyleSpace', 'Mapping']):\n",
    "    for jdx, (dname, seed) in enumerate([\n",
    "        ('Metfaces', 518), ('Mega', 312), ('Ukiyoe', 520),('Dog', 527), \n",
    "        ('Cat', 514), ('Car', 530), ('Church',  506), ('Flowers', 324)\n",
    "    ]):\n",
    "        G_ema, _ = all_models[pname][dname]\n",
    "        images, _ = nb_utils.generate_images(G_ema, grid_size=1, device=device, seed=seed, truncation_psi=0.9)\n",
    "        \n",
    "        axes[idx, jdx].imshow(images[0])\n",
    "        if idx == 0:\n",
    "            axes[idx, jdx].set_title(dname, fontdict=dict(fontsize=10, weight='bold'))\n",
    "        if jdx == 0:\n",
    "            axes[idx, jdx].set_ylabel(pname, fontdict=dict(fontsize=10, weight='bold'))\n",
    "        \n",
    "fig.subplots_adjust(wspace=0.01, hspace=0.01)\n",
    "fig.tight_layout()\n",
    "plt.show()"
   ]
  },
  {
   "cell_type": "markdown",
   "id": "3efc5612",
   "metadata": {},
   "source": [
    "### Figure 14"
   ]
  },
  {
   "cell_type": "code",
   "execution_count": null,
   "id": "0ace2106",
   "metadata": {
    "ExecuteTime": {
     "end_time": "2023-03-24T08:49:50.148078Z",
     "start_time": "2023-03-24T08:49:18.209690Z"
    }
   },
   "outputs": [],
   "source": [
    "meta_grid_size = np.array([len(general_experiments) // 4, 4])\n",
    "block_grid_size = np.array([len(metfaces_512), 6])\n",
    "grid_size = meta_grid_size * block_grid_size\n",
    "fig = plt.figure(figsize=grid_size[::-1] * 1.0)\n",
    "\n",
    "gs_outer = GridSpec(*meta_grid_size, hspace=0.05, wspace=0.05) \n",
    "gs_blocks = np.array([\n",
    "    [\n",
    "        GridSpecFromSubplotSpec(\n",
    "            *block_grid_size, subplot_spec=gs_outer[idx, jdx], hspace=0.05, wspace=0.05\n",
    "        ) for jdx in range(meta_grid_size[1])\n",
    "    ] for idx in range(meta_grid_size[0]) \n",
    "]).reshape(-1)\n",
    "\n",
    "for idx, (dname, seed_jdx) in enumerate([\n",
    "    ('Metfaces', 400), ('Mega', 401), ('Ukiyoe', 402),('Dog', 403), \n",
    "    ('Cat', 404), ('Car', 405), ('Church',  406), ('Flowers', 407)\n",
    "]):\n",
    "    axes = np.array([\n",
    "        [\n",
    "            fig.add_subplot(\n",
    "                gs_blocks[idx][bidx, bjdx]\n",
    "            ) for bjdx in range(block_grid_size[1])\n",
    "        ] for bidx in range(block_grid_size[0])\n",
    "    ])\n",
    "    nb_utils.prepare_axes(axes)\n",
    "\n",
    "    for jdx, (pname, seed_idx) in enumerate([\n",
    "        ('Full', 1000), ('SyntConv', 2000), ('Affine+', 3000), ('Affine', 4000), \n",
    "        ('AffineLight+', 6000), ('StyleSpace', 7000), ('Mapping', 5000)\n",
    "    ]):\n",
    "        seed = seed_idx + seed_jdx\n",
    "\n",
    "        G_ema, _ = all_models[pname][dname]\n",
    "        images, _ = nb_utils.generate_images(G_ema, grid_size=len(axes[jdx]), device=device, seed=seed, truncation_psi=0.9)\n",
    "        for ax, image in zip(axes[jdx], images):\n",
    "            ax.imshow(image)\n",
    "            \n",
    "        if idx % meta_grid_size[1] == 0:\n",
    "            axes[jdx][0].set_ylabel(pname, fontdict=dict(fontsize=6, weight='bold'))\n",
    "            \n",
    "plt.show()"
   ]
  }
 ],
 "metadata": {
  "kernelspec": {
   "display_name": "Python 3 (ipykernel)",
   "language": "python",
   "name": "python3"
  },
  "language_info": {
   "codemirror_mode": {
    "name": "ipython",
    "version": 3
   },
   "file_extension": ".py",
   "mimetype": "text/x-python",
   "name": "python",
   "nbconvert_exporter": "python",
   "pygments_lexer": "ipython3",
   "version": "3.7.12"
  },
  "toc": {
   "base_numbering": 1,
   "nav_menu": {},
   "number_sections": false,
   "sideBar": true,
   "skip_h1_title": false,
   "title_cell": "Table of Contents",
   "title_sidebar": "Contents",
   "toc_cell": false,
   "toc_position": {},
   "toc_section_display": true,
   "toc_window_display": false
  }
 },
 "nbformat": 4,
 "nbformat_minor": 5
}
