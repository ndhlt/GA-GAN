{
 "cells": [
  {
   "cell_type": "code",
   "execution_count": null,
   "id": "0e4fcd5c-b598-43ca-b94d-cdeda6d4d6bd",
   "metadata": {},
   "outputs": [],
   "source": [
    "%cd .."
   ]
  },
  {
   "cell_type": "code",
   "execution_count": null,
   "id": "8717b6a9-97e2-401f-8e2a-08726af92c9e",
   "metadata": {},
   "outputs": [],
   "source": [
    "import os\n",
    "import numpy as np\n",
    "import torch\n",
    "import torch.nn as nn\n",
    "import matplotlib.pyplot as plt\n",
    "import PIL\n",
    "import random\n",
    "\n",
    "from torchvision.transforms import Resize\n",
    "from omegaconf import OmegaConf\n",
    "from core.utils.common import load_clip, mixing_noise\n",
    "from core.utils.example_utils import (\n",
    "    Inferencer, to_im, vstack_with_lines, hstack_with_lines, insert_image\n",
    ")\n",
    "from core.utils.image_utils import construct_paper_image_grid\n",
    "from core.utils.reading_weights import read_weights\n",
    "from core.uda_models import OffsetsTunningGenerator\n",
    "\n",
    "from pathlib import Path\n",
    "from collections import defaultdict\n",
    "\n",
    "from examples.draw_util import weights, set_seed, IdentityEditor, StyleEditor"
   ]
  },
  {
   "cell_type": "code",
   "execution_count": null,
   "id": "711fbd8e-aa1d-4bf0-a968-75d6da1464f0",
   "metadata": {},
   "outputs": [],
   "source": [
    "device = 'cuda:0'\n",
    "\n",
    "gan_domain = 'ffhq'\n",
    "s_domain = 'pixar'\n",
    "\n",
    "ckpt = read_weights(weights[s_domain])\n",
    "ckpt_ffhq = {'sg2_params': ckpt['sg2_params']}\n",
    "ckpt_ffhq['sg2_params']['checkpoint_path'] = weights[gan_domain]\n",
    "\n",
    "model = Inferencer(ckpt, device)"
   ]
  },
  {
   "cell_type": "code",
   "execution_count": null,
   "id": "44e2b6eb-be07-4d46-a90f-06f935898a0e",
   "metadata": {},
   "outputs": [],
   "source": [
    "set_seed(1)\n",
    "\n",
    "z = [torch.randn(16, 512).to(device)]"
   ]
  },
  {
   "cell_type": "code",
   "execution_count": null,
   "id": "c238bda8-ec3b-4df5-b9d4-b168e257833b",
   "metadata": {},
   "outputs": [],
   "source": [
    "src_im, trg_im = model(z, truncation=0.7, offset_power=0.9)\n",
    "\n",
    "to_im(Resize(256)(src_im))"
   ]
  },
  {
   "cell_type": "code",
   "execution_count": null,
   "id": "d283b723-4369-47bd-9c24-18b722ce57d9",
   "metadata": {},
   "outputs": [],
   "source": [
    "idx = 15\n",
    "\n",
    "z_single = [z[0][idx].unsqueeze(0)]\n",
    "z.clear()\n",
    "\n",
    "s_single = model.sg2_source.get_s_code(z_single, truncation=0.7)"
   ]
  },
  {
   "cell_type": "code",
   "execution_count": null,
   "id": "f72ec351-befd-44bf-bb31-868b9f8751d9",
   "metadata": {},
   "outputs": [],
   "source": [
    "src, _ = model.sg2_source(s_single, is_s_code=True)\n",
    "\n",
    "to_im(Resize(256)(src))"
   ]
  },
  {
   "cell_type": "code",
   "execution_count": null,
   "id": "a94065cb-76ea-4b75-a57d-2fe7ba5661d2",
   "metadata": {},
   "outputs": [],
   "source": [
    "column_domains = [\n",
    "    'ffhq', \n",
    "    'to_metfaces',\n",
    "    'to_mega',\n",
    "    'to_afhqdog',\n",
    "    'to_afhqcat'\n",
    "]\n",
    "\n",
    "\n",
    "row_domains = [\n",
    "    'original', \n",
    "    'pixar', \n",
    "    'anime', \n",
    "    'ukiyo-e', \n",
    "    'botero', \n",
    "    'joker', \n",
    "    'anastasia', \n",
    "    'speed_paint', \n",
    "]\n",
    "\n",
    "\n",
    "linear_size = 256\n",
    "truncation = 0.7\n",
    "offset_pow = 0.85\n",
    "\n",
    "dom_to_pow = defaultdict(lambda : offset_pow, {\n",
    "    'original': 0.,\n",
    "    'sketch': 0.7,\n",
    "    'pixar': 0.75,\n",
    "    'botero': 0.75,\n",
    "    'joker': 0.65,\n",
    "    'edvard_munch_painting': 0.95,\n",
    "    'modigliani_painting': 0.75\n",
    "})\n",
    "\n",
    "style_to_editor = {\n",
    "    d: StyleEditor(read_weights(weights[d])) if d != 'original' else IdentityEditor() for d in row_domains\n",
    "}\n",
    "\n",
    "model = Inferencer(ckpt_ffhq, device)\n",
    "resize = Resize(linear_size)\n",
    "stack = []\n",
    "\n",
    "for row_domain in row_domains:\n",
    "    row_image = []\n",
    "    for column_domain in column_domains:\n",
    "        model.sg2_source.generator.load_state_dict(torch.load(weights[column_domain])['g_ema'])\n",
    "        s_edited = style_to_editor[row_domain](s_single, power=dom_to_pow[row_domain])\n",
    "        src_im, _ = model.sg2_source(\n",
    "            s_edited, is_s_code=True\n",
    "        )\n",
    "        im = np.array(to_im(resize(src_im)))\n",
    "        row_image.append(im)\n",
    "        \n",
    "    stack.append(row_image)"
   ]
  },
  {
   "cell_type": "code",
   "execution_count": null,
   "id": "f5fa0cde-a7b1-4dbf-ba24-b2bd4606d3b6",
   "metadata": {},
   "outputs": [],
   "source": [
    "skip_width = 10\n",
    "skip_vertical = 15\n",
    "\n",
    "final_image = []\n",
    "\n",
    "for row_stack in stack:\n",
    "    final_image.append(hstack_with_lines(row_stack, skip_width))\n",
    "    \n",
    "final_image = vstack_with_lines(final_image, skip_vertical)\n",
    "PIL.Image.fromarray(final_image)"
   ]
  },
  {
   "cell_type": "code",
   "execution_count": null,
   "id": "6041509e-5890-466f-b123-897c66779815",
   "metadata": {},
   "outputs": [],
   "source": []
  },
  {
   "cell_type": "code",
   "execution_count": null,
   "id": "6247c5c8-62a5-4ce1-af24-52a4f0514e43",
   "metadata": {},
   "outputs": [],
   "source": []
  }
 ],
 "metadata": {
  "kernelspec": {
   "display_name": "Python 3 (ipykernel)",
   "language": "python",
   "name": "python3"
  },
  "language_info": {
   "codemirror_mode": {
    "name": "ipython",
    "version": 3
   },
   "file_extension": ".py",
   "mimetype": "text/x-python",
   "name": "python",
   "nbconvert_exporter": "python",
   "pygments_lexer": "ipython3",
   "version": "3.7.12"
  }
 },
 "nbformat": 4,
 "nbformat_minor": 5
}
