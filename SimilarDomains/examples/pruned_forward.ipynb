{
 "cells": [
  {
   "cell_type": "code",
   "execution_count": null,
   "id": "cf00dd04-7abd-4684-9d21-172b9224bb24",
   "metadata": {},
   "outputs": [],
   "source": [
    "%cd ../"
   ]
  },
  {
   "cell_type": "code",
   "execution_count": null,
   "id": "f5fa116c-6584-4e7a-8c48-3be0505a7c6f",
   "metadata": {},
   "outputs": [],
   "source": [
    "# import dnnlib\n",
    "import pickle as pkl\n",
    "import torch\n",
    "import torch.nn as nn\n",
    "import torch.nn.functional as F\n",
    "import matplotlib.pyplot as plt\n",
    "import numpy as np\n",
    "import random\n",
    "\n",
    "from PIL import Image\n",
    "from pathlib import Path\n",
    "from torchvision.transforms import Resize\n",
    "\n",
    "from core.utils.example_utils import Inferencer, vstack_with_lines, hstack_with_lines, to_im\n",
    "from core.utils.image_utils import construct_paper_image_grid\n",
    "from core.utils.reading_weights import read_weights\n",
    "from core.uda_models import OffsetsTunningGenerator\n",
    "from core.sparse_models import SparsedModel\n",
    "\n",
    "from examples.draw_util import weights"
   ]
  },
  {
   "cell_type": "code",
   "execution_count": null,
   "id": "f57bd469-21ca-48b1-83de-2e0c3ea6e0a2",
   "metadata": {},
   "outputs": [],
   "source": [
    "device = 'cuda:0'\n",
    "\n",
    "g = OffsetsTunningGenerator(\n",
    "    checkpoint_path='pretrained/StyleGAN2/stylegan2-ffhq-config-f.pt'\n",
    ").patch_layers('s_delta').to(device)"
   ]
  },
  {
   "cell_type": "code",
   "execution_count": null,
   "id": "12acc409-0bcf-4f97-a34c-a237cbba8f6b",
   "metadata": {},
   "outputs": [],
   "source": []
  },
  {
   "cell_type": "code",
   "execution_count": null,
   "id": "aca3a6b8-e539-4e1d-8326-7b605408f4c5",
   "metadata": {},
   "outputs": [],
   "source": [
    "percentiles = [0.7, 0.8, 0.9, 0.9, 0.95]\n",
    "\n",
    "\n",
    "domain = 'sketch'\n",
    "bs = 4\n",
    "truncation = 0.8\n",
    "\n",
    "model = SparsedModel(device, read_weights(weights[domain]))\n",
    "z = [torch.randn(bs, 512).to(device)]\n",
    "resize = Resize(256)\n",
    "\n",
    "\n",
    "images = []\n",
    "for perc in percentiles:\n",
    "    offsets = model.pruned_offsets(perc)\n",
    "    im, _ = g(z, offsets=offsets, truncation=truncation)\n",
    "    images.append(to_im(resize(im.detach()), padding=0))\n",
    "    \n",
    "    \n",
    "orig_ims, _ = g(z, truncation=truncation)\n",
    "images.append(to_im(resize(orig_ims.detach()), padding=0))"
   ]
  },
  {
   "cell_type": "code",
   "execution_count": null,
   "id": "fe83b74f-e258-4af7-aa56-cbdb5e76da71",
   "metadata": {},
   "outputs": [],
   "source": [
    "ext = 2\n",
    "\n",
    "plt.figure(figsize=(bs * ext, (len(percentiles) + 1) * ext))\n",
    "plt.imshow(vstack_with_lines(images, 10))\n",
    "\n",
    "plt.xticks(\n",
    "    np.arange(128, bs * 256, 256), \n",
    "    labels=[f\"id {k}\" for k in range(bs)]\n",
    ")\n",
    "\n",
    "\n",
    "plt.yticks(\n",
    "    np.arange(128, len(percentiles) * (256 + 10) + 256, 256 + 10),\n",
    "    labels=[f\"{p * 100}% pruned\" for p in percentiles] + ['Original']\n",
    ")\n",
    "\n",
    "\n",
    "# plt.axis('off')\n",
    "plt.show()"
   ]
  },
  {
   "cell_type": "code",
   "execution_count": null,
   "id": "202c8636-7fb0-4ef8-9aed-39c6fc90fb4f",
   "metadata": {},
   "outputs": [],
   "source": []
  },
  {
   "cell_type": "code",
   "execution_count": null,
   "id": "59ab9e67-17e2-4457-9153-e6eb250d365a",
   "metadata": {},
   "outputs": [],
   "source": []
  },
  {
   "cell_type": "code",
   "execution_count": null,
   "id": "52fba3a2-7249-4a9a-80f2-3fbf4b12d337",
   "metadata": {},
   "outputs": [],
   "source": []
  }
 ],
 "metadata": {
  "kernelspec": {
   "display_name": "Python 3 (ipykernel)",
   "language": "python",
   "name": "python3"
  },
  "language_info": {
   "codemirror_mode": {
    "name": "ipython",
    "version": 3
   },
   "file_extension": ".py",
   "mimetype": "text/x-python",
   "name": "python",
   "nbconvert_exporter": "python",
   "pygments_lexer": "ipython3",
   "version": "3.7.12"
  }
 },
 "nbformat": 4,
 "nbformat_minor": 5
}
