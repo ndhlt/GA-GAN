{
 "cells": [
  {
   "cell_type": "code",
   "execution_count": null,
   "id": "e3dee25e-c85b-472d-9d7a-5531431f5a6e",
   "metadata": {},
   "outputs": [],
   "source": [
    "%cd .."
   ]
  },
  {
   "cell_type": "code",
   "execution_count": null,
   "id": "12b47bde-e46f-4ee2-bc51-a4b8eae3e4ee",
   "metadata": {},
   "outputs": [],
   "source": [
    "import os\n",
    "import numpy as np\n",
    "import torch\n",
    "import torch.nn as nn\n",
    "import matplotlib.pyplot as plt\n",
    "import PIL\n",
    "import random\n",
    "\n",
    "from torchvision.transforms import Resize\n",
    "from omegaconf import OmegaConf\n",
    "from core.utils.common import load_clip, mixing_noise\n",
    "from core.utils.example_utils import Inferencer, to_im, vstack_with_lines, hstack_with_lines, insert_image\n",
    "from core.utils.image_utils import construct_paper_image_grid\n",
    "from core.utils.reading_weights import read_weights\n",
    "from core.uda_models import uda_models\n",
    "\n",
    "from pathlib import Path\n",
    "from collections import defaultdict, OrderedDict\n",
    "from copy import deepcopy\n",
    "\n",
    "from examples.draw_util import IdentityEditor, StyleEditor, morph_g_ema, weights, set_seed"
   ]
  },
  {
   "cell_type": "code",
   "execution_count": null,
   "id": "5b66be31-a25b-4eed-9bd9-53293abb4d52",
   "metadata": {},
   "outputs": [],
   "source": [
    "device = 'cuda:0'\n",
    "\n",
    "dom_to_editor = {\n",
    "    k: StyleEditor(read_weights(v), device) for k, v in weights.items() if '.pt' not in v.name\n",
    "}"
   ]
  },
  {
   "cell_type": "code",
   "execution_count": null,
   "id": "64219c3d-3655-42ee-af96-cd067cc5cb6d",
   "metadata": {},
   "outputs": [],
   "source": [
    "g = uda_models['stylegan2'](\n",
    "    img_size=1024,\n",
    "    latent_size=512,\n",
    "    map_layers=8,\n",
    "    checkpoint_path='pretrained/StyleGAN2/stylegan2-ffhq-config-f.pt'\n",
    ").eval().to(device)"
   ]
  },
  {
   "cell_type": "code",
   "execution_count": null,
   "id": "2ce7bb6c-7cb9-4e45-b51d-582067aac9fa",
   "metadata": {},
   "outputs": [],
   "source": [
    "set_seed(3)\n",
    "\n",
    "z = mixing_noise(16, 512, 0, device)"
   ]
  },
  {
   "cell_type": "code",
   "execution_count": null,
   "id": "3dc90761-2314-4505-a71d-3f437da59a4e",
   "metadata": {},
   "outputs": [],
   "source": [
    "im, _ = g(z, truncation=0.7)\n",
    "\n",
    "to_im(Resize(256)(im))"
   ]
  },
  {
   "cell_type": "code",
   "execution_count": null,
   "id": "cb301fde-3e49-4293-a065-7ebbb3ebdd04",
   "metadata": {},
   "outputs": [],
   "source": [
    "idx = 4\n",
    "\n",
    "z_single = [z[0][idx].unsqueeze(0)]\n",
    "z.clear()\n",
    "\n",
    "im, _ = g(z_single, truncation=0.7)\n",
    "to_im(Resize(256)(im))"
   ]
  },
  {
   "cell_type": "markdown",
   "id": "f42f22eb-7a71-46fd-9e8a-4d07a73991db",
   "metadata": {},
   "source": [
    "## Combined Morphing"
   ]
  },
  {
   "cell_type": "code",
   "execution_count": null,
   "id": "0e9dae78-057c-49bf-b15a-833c6f87d98d",
   "metadata": {},
   "outputs": [],
   "source": [
    "phase_step = 8      ## images per one morphing stage\n",
    "alphas = np.linspace(0, 1, phase_step).tolist()\n",
    "\n",
    "linear_size = 256   ## single image size\n",
    "skip_horiz = 10     ## skip distance\n",
    "\n",
    "offset_power = 0.8  ## offset_power of stylization model\n",
    "\n",
    "\n",
    "resize = Resize(linear_size)\n",
    "\n",
    "\n",
    "# Each combined morphing is represented by 3 domains:\n",
    "# The first is domain of initial stylization e.g. 'anime', 'pixar', etc\n",
    "# Second domain is domain of finetuned GAN model e.g. 'AFHQDog', AFHQCat, etc\n",
    "# Third domain is also about final stylization\n",
    "# In `row_domain` examples are shown (to see results use only one row)\n",
    "\n",
    "\n",
    "row_domains = [\n",
    "    ('impressionism_painting', 'to_afhqdog', 'pop_art_indomain'),\n",
    "    # ('ukiyo-e', 'afhqdog', 'sketch'),\n",
    "    # ('dali_painting', 'afhqcat', 'cubism_painting'),\n",
    "    # ('ukiyo-e', 'afhqdog', 'werewolf'),\n",
    "    # ('ukiyo-e', 'afhqcat', 'werewolf')\n",
    "]"
   ]
  },
  {
   "cell_type": "code",
   "execution_count": null,
   "id": "4f4bf9bb-986e-4bc3-94f9-e766879e1030",
   "metadata": {},
   "outputs": [],
   "source": [
    "images = []\n",
    "ckpt_ffhq = torch.load(weights['ffhq'])\n",
    "\n",
    "for first_style, g_domain, next_style in row_domains:\n",
    "    g.generator.load_state_dict(ckpt_ffhq['g_ema'])\n",
    "    g.eval().to(device)\n",
    "    g.mean_latent = g.generator.mean_latent(4096)\n",
    "    \n",
    "    row_image = []\n",
    "    for alpha in alphas:\n",
    "        style_editor = dom_to_editor[first_style] * alpha\n",
    "        s = g.get_s_code(z_single, truncation=0.7)\n",
    "        edited_s = style_editor(s, offset_power)\n",
    "        im, _ = g(edited_s, is_s_code=True)\n",
    "        row_image.append(to_im(resize(im)))\n",
    "    \n",
    "    images.append(row_image)\n",
    "    \n",
    "    \n",
    "    style_editor = dom_to_editor[first_style]\n",
    "    ckpt2 = torch.load(weights[g_domain])\n",
    "    \n",
    "    \n",
    "    row_image = []\n",
    "    for alpha in alphas:\n",
    "        morphed_ckpt = morph_g_ema(ckpt_ffhq, ckpt2, 1 - alpha)\n",
    "        \n",
    "        ## ---------Update Generator weights------------ ##\n",
    "        g.generator.load_state_dict(morphed_ckpt['g_ema'])\n",
    "        g.eval().to(device)\n",
    "        g.mean_latent = g.generator.mean_latent(4096)\n",
    "        ## --------------------------------------------- ## \n",
    "        \n",
    "        s = g.get_s_code(z_single, truncation=0.7)\n",
    "        edited_s = style_editor(s, offset_power)\n",
    "        im, _ = g(edited_s, is_s_code=True)\n",
    "        row_image.append(to_im(resize(im)))\n",
    "    \n",
    "    images.append(row_image[::-1])\n",
    "    row_image = []\n",
    "    \n",
    "    for alpha in alphas:\n",
    "        style_editor = dom_to_editor[next_style] * alpha + dom_to_editor[first_style] * (1 - alpha)\n",
    "        edited_s_ = style_editor(s, offset_power)\n",
    "        im, _ = g(edited_s_, is_s_code=True)\n",
    "        row_image = [to_im(resize(im))] + row_image\n",
    "    \n",
    "    images.append(row_image[::-1])\n",
    "    \n",
    "    row_image = []\n",
    "    for alpha in alphas:\n",
    "        morphed_ckpt = morph_g_ema(ckpt_ffhq, ckpt2, alpha)\n",
    "        \n",
    "        ## ---------Update Generator weights------------ ##\n",
    "        g.generator.load_state_dict(morphed_ckpt['g_ema'])\n",
    "        g.eval().to(device)\n",
    "        g.mean_latent = g.generator.mean_latent(4096)\n",
    "        ## --------------------------------------------- ## \n",
    "        \n",
    "        \n",
    "        s = g.get_s_code(z_single, truncation=0.7)\n",
    "        edited_s = style_editor(s, offset_power)\n",
    "        im, _ = g(edited_s, is_s_code=True)\n",
    "        row_image = [to_im(resize(im))] + row_image\n",
    "    \n",
    "    images.append(row_image)"
   ]
  },
  {
   "cell_type": "code",
   "execution_count": null,
   "id": "24ff8128-ea41-42ae-add3-5e5d9d715b23",
   "metadata": {},
   "outputs": [],
   "source": [
    "skip_horiz = 10\n",
    "skip_vertical = 15\n",
    "    \n",
    "final_image = []\n",
    "\n",
    "for row_stack in images:\n",
    "    final_image.append(hstack_with_lines(row_stack, skip_horiz))\n",
    "    \n",
    "final_image = vstack_with_lines(final_image, skip_vertical)\n",
    "PIL.Image.fromarray(final_image)"
   ]
  },
  {
   "cell_type": "code",
   "execution_count": null,
   "id": "11b84267-94c4-429a-878d-7c0b15ddaf77",
   "metadata": {},
   "outputs": [],
   "source": []
  },
  {
   "cell_type": "code",
   "execution_count": null,
   "id": "6408acac-3917-470d-9a0f-f7dcdb9f7986",
   "metadata": {},
   "outputs": [],
   "source": []
  }
 ],
 "metadata": {
  "kernelspec": {
   "display_name": "Python 3 (ipykernel)",
   "language": "python",
   "name": "python3"
  },
  "language_info": {
   "codemirror_mode": {
    "name": "ipython",
    "version": 3
   },
   "file_extension": ".py",
   "mimetype": "text/x-python",
   "name": "python",
   "nbconvert_exporter": "python",
   "pygments_lexer": "ipython3",
   "version": "3.7.12"
  }
 },
 "nbformat": 4,
 "nbformat_minor": 5
}
